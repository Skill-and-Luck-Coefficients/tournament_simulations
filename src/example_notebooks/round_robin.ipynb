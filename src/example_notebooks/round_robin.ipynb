{
 "cells": [
  {
   "attachments": {},
   "cell_type": "markdown",
   "metadata": {},
   "source": [
    "<h1 align=\"center\">Round Robin</h1>"
   ]
  },
  {
   "attachments": {},
   "cell_type": "markdown",
   "metadata": {},
   "source": [
    "<h2>Changing to correct directory</h2>"
   ]
  },
  {
   "cell_type": "code",
   "execution_count": 1,
   "metadata": {},
   "outputs": [],
   "source": [
    "import os\n",
    "from pathlib import Path\n",
    "\n",
    "os.chdir(Path.cwd().parent)\n",
    "assert Path.cwd().name == \"src\" # make sure it is the correct folder"
   ]
  },
  {
   "cell_type": "code",
   "execution_count": 2,
   "metadata": {},
   "outputs": [],
   "source": [
    "import pandas as pd\n",
    "import random\n",
    "\n",
    "import tournament_simulations.schedules.round_robin as rr"
   ]
  },
  {
   "attachments": {},
   "cell_type": "markdown",
   "metadata": {},
   "source": [
    "<h2>Scheduling Algorithm</h2>"
   ]
  },
  {
   "cell_type": "code",
   "execution_count": 3,
   "metadata": {},
   "outputs": [
    {
     "data": {
      "text/plain": [
       "[((0, 3), (1, 2)), ((0, 2), (3, 1)), ((0, 1), (2, 3))]"
      ]
     },
     "execution_count": 3,
     "metadata": {},
     "output_type": "execute_result"
    }
   ],
   "source": [
    "# Circle-Method\n",
    "random.seed(1)\n",
    "\n",
    "rr.generate_schedule(list(range(4)))"
   ]
  },
  {
   "attachments": {},
   "cell_type": "markdown",
   "metadata": {},
   "source": [
    "<h2>Single Round-Robin</h2>\n",
    "\n",
    "> All matches in a round have the same \"date number\""
   ]
  },
  {
   "cell_type": "code",
   "execution_count": 4,
   "metadata": {},
   "outputs": [
    {
     "name": "stdout",
     "output_type": "stream",
     "text": [
      "[((0, 3), (2, 1)), ((4, 1), (2, 3)), ((0, 2), (3, 4)), ((3, 1), (0, 4)), ((2, 4), (1, 0))]\n",
      "\n",
      "[((4, 1), (3, 0)), ((1, 3), (4, 2)), ((1, 2), (4, 0)), ((0, 1), (3, 2)), ((4, 3), (0, 2))]\n"
     ]
    }
   ],
   "source": [
    "random.seed(1)\n",
    "single_rr = rr.SingleRoundRobin.from_num_teams(num_teams=5, randomize_teams=False)\n",
    "\n",
    "random.seed(1)\n",
    "# in this case teams are randomized\n",
    "random_single_rr = rr.SingleRoundRobin.from_num_teams(num_teams=5)\n",
    "\n",
    "print(single_rr.schedule, end=\"\\n\\n\")\n",
    "print(random_single_rr.schedule)"
   ]
  },
  {
   "cell_type": "code",
   "execution_count": 5,
   "metadata": {},
   "outputs": [
    {
     "data": {
      "text/plain": [
       "[((0, 2), (3, 4)),\n",
       " ((3, 1), (0, 4)),\n",
       " ((2, 4), (1, 0)),\n",
       " ((0, 3), (2, 1)),\n",
       " ((4, 1), (2, 3)),\n",
       " ((0, 3), (2, 1)),\n",
       " ((0, 2), (3, 4)),\n",
       " ((4, 1), (2, 3)),\n",
       " ((2, 4), (1, 0)),\n",
       " ((3, 1), (0, 4))]"
      ]
     },
     "execution_count": 5,
     "metadata": {},
     "output_type": "execute_result"
    }
   ],
   "source": [
    "random.seed(1)\n",
    "list(single_rr.get_full_schedule(2))"
   ]
  },
  {
   "cell_type": "code",
   "execution_count": 6,
   "metadata": {},
   "outputs": [
    {
     "data": {
      "text/plain": [
       "[(('zero', 'two'), ('three', 'four')),\n",
       " (('three', 'one'), ('zero', 'four')),\n",
       " (('two', 'four'), ('one', 'zero')),\n",
       " (('zero', 'three'), ('two', 'one')),\n",
       " (('four', 'one'), ('two', 'three')),\n",
       " (('zero', 'three'), ('two', 'one')),\n",
       " (('zero', 'two'), ('three', 'four')),\n",
       " (('four', 'one'), ('two', 'three')),\n",
       " (('two', 'four'), ('one', 'zero')),\n",
       " (('three', 'one'), ('zero', 'four'))]"
      ]
     },
     "execution_count": 6,
     "metadata": {},
     "output_type": "execute_result"
    }
   ],
   "source": [
    "random.seed(1)\n",
    "teams = [\"zero\", \"one\", \"two\", \"three\", \"four\"]\n",
    "schedule = list(single_rr.get_full_schedule(2))\n",
    "list(rr.rename_teams_in_rounds(schedule, teams))"
   ]
  },
  {
   "cell_type": "code",
   "execution_count": 7,
   "metadata": {},
   "outputs": [
    {
     "data": {
      "text/html": [
       "<div>\n",
       "<style scoped>\n",
       "    .dataframe tbody tr th:only-of-type {\n",
       "        vertical-align: middle;\n",
       "    }\n",
       "\n",
       "    .dataframe tbody tr th {\n",
       "        vertical-align: top;\n",
       "    }\n",
       "\n",
       "    .dataframe thead tr th {\n",
       "        text-align: left;\n",
       "    }\n",
       "\n",
       "    .dataframe thead tr:last-of-type th {\n",
       "        text-align: right;\n",
       "    }\n",
       "</style>\n",
       "<table border=\"1\" class=\"dataframe\">\n",
       "  <thead>\n",
       "    <tr>\n",
       "      <th></th>\n",
       "      <th></th>\n",
       "      <th colspan=\"2\" halign=\"left\">original</th>\n",
       "      <th colspan=\"2\" halign=\"left\">not random</th>\n",
       "      <th colspan=\"2\" halign=\"left\">random</th>\n",
       "    </tr>\n",
       "    <tr>\n",
       "      <th></th>\n",
       "      <th></th>\n",
       "      <th>home</th>\n",
       "      <th>away</th>\n",
       "      <th>home</th>\n",
       "      <th>away</th>\n",
       "      <th>home</th>\n",
       "      <th>away</th>\n",
       "    </tr>\n",
       "    <tr>\n",
       "      <th>id</th>\n",
       "      <th>date number</th>\n",
       "      <th></th>\n",
       "      <th></th>\n",
       "      <th></th>\n",
       "      <th></th>\n",
       "      <th></th>\n",
       "      <th></th>\n",
       "    </tr>\n",
       "  </thead>\n",
       "  <tbody>\n",
       "    <tr>\n",
       "      <th rowspan=\"10\" valign=\"top\">tournament</th>\n",
       "      <th>0</th>\n",
       "      <td>0</td>\n",
       "      <td>3</td>\n",
       "      <td>0</td>\n",
       "      <td>3</td>\n",
       "      <td>0</td>\n",
       "      <td>2</td>\n",
       "    </tr>\n",
       "    <tr>\n",
       "      <th>0</th>\n",
       "      <td>2</td>\n",
       "      <td>1</td>\n",
       "      <td>2</td>\n",
       "      <td>1</td>\n",
       "      <td>3</td>\n",
       "      <td>4</td>\n",
       "    </tr>\n",
       "    <tr>\n",
       "      <th>1</th>\n",
       "      <td>4</td>\n",
       "      <td>1</td>\n",
       "      <td>4</td>\n",
       "      <td>1</td>\n",
       "      <td>3</td>\n",
       "      <td>1</td>\n",
       "    </tr>\n",
       "    <tr>\n",
       "      <th>1</th>\n",
       "      <td>2</td>\n",
       "      <td>3</td>\n",
       "      <td>2</td>\n",
       "      <td>3</td>\n",
       "      <td>0</td>\n",
       "      <td>4</td>\n",
       "    </tr>\n",
       "    <tr>\n",
       "      <th>2</th>\n",
       "      <td>0</td>\n",
       "      <td>2</td>\n",
       "      <td>0</td>\n",
       "      <td>2</td>\n",
       "      <td>2</td>\n",
       "      <td>4</td>\n",
       "    </tr>\n",
       "    <tr>\n",
       "      <th>2</th>\n",
       "      <td>3</td>\n",
       "      <td>4</td>\n",
       "      <td>3</td>\n",
       "      <td>4</td>\n",
       "      <td>1</td>\n",
       "      <td>0</td>\n",
       "    </tr>\n",
       "    <tr>\n",
       "      <th>3</th>\n",
       "      <td>3</td>\n",
       "      <td>1</td>\n",
       "      <td>3</td>\n",
       "      <td>1</td>\n",
       "      <td>0</td>\n",
       "      <td>3</td>\n",
       "    </tr>\n",
       "    <tr>\n",
       "      <th>3</th>\n",
       "      <td>0</td>\n",
       "      <td>4</td>\n",
       "      <td>0</td>\n",
       "      <td>4</td>\n",
       "      <td>2</td>\n",
       "      <td>1</td>\n",
       "    </tr>\n",
       "    <tr>\n",
       "      <th>4</th>\n",
       "      <td>2</td>\n",
       "      <td>4</td>\n",
       "      <td>2</td>\n",
       "      <td>4</td>\n",
       "      <td>4</td>\n",
       "      <td>1</td>\n",
       "    </tr>\n",
       "    <tr>\n",
       "      <th>4</th>\n",
       "      <td>1</td>\n",
       "      <td>0</td>\n",
       "      <td>1</td>\n",
       "      <td>0</td>\n",
       "      <td>2</td>\n",
       "      <td>3</td>\n",
       "    </tr>\n",
       "  </tbody>\n",
       "</table>\n",
       "</div>"
      ],
      "text/plain": [
       "                       original      not random      random     \n",
       "                           home away       home away   home away\n",
       "id         date number                                          \n",
       "tournament 0                  0    3          0    3      0    2\n",
       "           0                  2    1          2    1      3    4\n",
       "           1                  4    1          4    1      3    1\n",
       "           1                  2    3          2    3      0    4\n",
       "           2                  0    2          0    2      2    4\n",
       "           2                  3    4          3    4      1    0\n",
       "           3                  3    1          3    1      0    3\n",
       "           3                  0    4          0    4      2    1\n",
       "           4                  2    4          2    4      4    1\n",
       "           4                  1    0          1    0      2    3"
      ]
     },
     "execution_count": 7,
     "metadata": {},
     "output_type": "execute_result"
    }
   ],
   "source": [
    "original = rr.convert_list_of_rounds_to_dataframe(single_rr.schedule, \"tournament\")\n",
    "\n",
    "random.seed(1)\n",
    "schedule = list(single_rr.get_full_schedule(1, False))\n",
    "not_randomized = rr.convert_list_of_rounds_to_dataframe(schedule, \"tournament\") \n",
    "\n",
    "random.seed(1)\n",
    "schedule = list(single_rr.get_full_schedule(1))\n",
    "randomized = rr.convert_list_of_rounds_to_dataframe(schedule, \"tournament\") \n",
    "\n",
    "# Notice that non-randomized has the same ordering as the original one\n",
    "pd.concat([original, not_randomized, randomized], axis=1, keys=[\"original\", \"not random\", \"random\"])"
   ]
  },
  {
   "cell_type": "code",
   "execution_count": 8,
   "metadata": {},
   "outputs": [
    {
     "name": "stdout",
     "output_type": "stream",
     "text": [
      "[(('a', 'c'),), (('a', 'b'),), (('b', 'c'),), (('a', 'c'),), (('a', 'b'),), (('b', 'c'),)]\n",
      "\n",
      "[(('b', 'c'),), (('a', 'b'),), (('a', 'c'),), (('b', 'c'),), (('a', 'c'),), (('a', 'b'),)]\n"
     ]
    }
   ],
   "source": [
    "random.seed(1)\n",
    "\n",
    "named_single_rr = rr.SingleRoundRobin.from_team_names(team_names=[\"a\", \"b\", \"c\"])\n",
    "\n",
    "# in this one the order from the second schedule is the same as the first one\n",
    "print(list(named_single_rr.get_full_schedule(2, randomize_rounds=False)), end=\"\\n\\n\")\n",
    "\n",
    "# in this one the order from the second schedule is randomized\n",
    "print(list(named_single_rr.get_full_schedule(2)))"
   ]
  },
  {
   "attachments": {},
   "cell_type": "markdown",
   "metadata": {},
   "source": [
    "<h2>Double Round-Robin</h2>\n",
    "\n",
    "> All matches in a round have the same \"date number\""
   ]
  },
  {
   "cell_type": "code",
   "execution_count": 9,
   "metadata": {},
   "outputs": [
    {
     "name": "stdout",
     "output_type": "stream",
     "text": [
      "[((2, 0), (1, 3)), ((0, 1), (3, 2)), ((0, 3), (2, 1))]\n",
      "[((0, 2), (3, 1)), ((1, 0), (2, 3)), ((3, 0), (1, 2))]\n",
      "\n",
      "[((0, 3), (1, 2)), ((1, 3), (2, 0)), ((2, 3), (1, 0))]\n",
      "[((3, 0), (2, 1)), ((3, 1), (0, 2)), ((3, 2), (0, 1))]\n"
     ]
    }
   ],
   "source": [
    "random.seed(1)\n",
    "\n",
    "random.seed(1)\n",
    "double_rr = rr.DoubleRoundRobin.from_num_teams(num_teams=4, randomize_teams=False)\n",
    "\n",
    "random.seed(1)\n",
    "# in this case teams are randomized\n",
    "random_double_rr = rr.DoubleRoundRobin.from_num_teams(num_teams=4)\n",
    "\n",
    "# Second portion always have (home, away) flipped when compared to the first one\n",
    "print(double_rr.first_schedule)\n",
    "print(double_rr.second_schedule, end=\"\\n\\n\")\n",
    "print(random_double_rr.first_schedule)\n",
    "print(random_double_rr.second_schedule)"
   ]
  },
  {
   "cell_type": "code",
   "execution_count": 10,
   "metadata": {},
   "outputs": [
    {
     "data": {
      "text/plain": [
       "[((0, 1), (3, 2)),\n",
       " ((0, 3), (2, 1)),\n",
       " ((2, 0), (1, 3)),\n",
       " ((0, 2), (3, 1)),\n",
       " ((1, 0), (2, 3)),\n",
       " ((3, 0), (1, 2)),\n",
       " ((2, 0), (1, 3)),\n",
       " ((0, 3), (2, 1)),\n",
       " ((0, 1), (3, 2)),\n",
       " ((0, 2), (3, 1)),\n",
       " ((1, 0), (2, 3)),\n",
       " ((3, 0), (1, 2))]"
      ]
     },
     "execution_count": 10,
     "metadata": {},
     "output_type": "execute_result"
    }
   ],
   "source": [
    "random.seed(1)\n",
    "# Everything is randomized here\n",
    "list(double_rr.get_full_schedule(2))"
   ]
  },
  {
   "cell_type": "code",
   "execution_count": 11,
   "metadata": {},
   "outputs": [
    {
     "data": {
      "text/html": [
       "<div>\n",
       "<style scoped>\n",
       "    .dataframe tbody tr th:only-of-type {\n",
       "        vertical-align: middle;\n",
       "    }\n",
       "\n",
       "    .dataframe tbody tr th {\n",
       "        vertical-align: top;\n",
       "    }\n",
       "\n",
       "    .dataframe thead tr th {\n",
       "        text-align: left;\n",
       "    }\n",
       "\n",
       "    .dataframe thead tr:last-of-type th {\n",
       "        text-align: right;\n",
       "    }\n",
       "</style>\n",
       "<table border=\"1\" class=\"dataframe\">\n",
       "  <thead>\n",
       "    <tr>\n",
       "      <th></th>\n",
       "      <th></th>\n",
       "      <th colspan=\"2\" halign=\"left\">original</th>\n",
       "      <th colspan=\"2\" halign=\"left\">no random</th>\n",
       "      <th colspan=\"2\" halign=\"left\">only first random</th>\n",
       "      <th colspan=\"2\" halign=\"left\">only second random</th>\n",
       "      <th colspan=\"2\" halign=\"left\">both random</th>\n",
       "    </tr>\n",
       "    <tr>\n",
       "      <th></th>\n",
       "      <th></th>\n",
       "      <th>home</th>\n",
       "      <th>away</th>\n",
       "      <th>home</th>\n",
       "      <th>away</th>\n",
       "      <th>home</th>\n",
       "      <th>away</th>\n",
       "      <th>home</th>\n",
       "      <th>away</th>\n",
       "      <th>home</th>\n",
       "      <th>away</th>\n",
       "    </tr>\n",
       "    <tr>\n",
       "      <th>id</th>\n",
       "      <th>date number</th>\n",
       "      <th></th>\n",
       "      <th></th>\n",
       "      <th></th>\n",
       "      <th></th>\n",
       "      <th></th>\n",
       "      <th></th>\n",
       "      <th></th>\n",
       "      <th></th>\n",
       "      <th></th>\n",
       "      <th></th>\n",
       "    </tr>\n",
       "  </thead>\n",
       "  <tbody>\n",
       "    <tr>\n",
       "      <th rowspan=\"12\" valign=\"top\">tournament</th>\n",
       "      <th>0</th>\n",
       "      <td>2</td>\n",
       "      <td>0</td>\n",
       "      <td>2</td>\n",
       "      <td>0</td>\n",
       "      <td>0</td>\n",
       "      <td>1</td>\n",
       "      <td>2</td>\n",
       "      <td>0</td>\n",
       "      <td>0</td>\n",
       "      <td>3</td>\n",
       "    </tr>\n",
       "    <tr>\n",
       "      <th>0</th>\n",
       "      <td>1</td>\n",
       "      <td>3</td>\n",
       "      <td>1</td>\n",
       "      <td>3</td>\n",
       "      <td>3</td>\n",
       "      <td>2</td>\n",
       "      <td>1</td>\n",
       "      <td>3</td>\n",
       "      <td>2</td>\n",
       "      <td>1</td>\n",
       "    </tr>\n",
       "    <tr>\n",
       "      <th>1</th>\n",
       "      <td>0</td>\n",
       "      <td>1</td>\n",
       "      <td>0</td>\n",
       "      <td>1</td>\n",
       "      <td>0</td>\n",
       "      <td>3</td>\n",
       "      <td>0</td>\n",
       "      <td>1</td>\n",
       "      <td>0</td>\n",
       "      <td>1</td>\n",
       "    </tr>\n",
       "    <tr>\n",
       "      <th>1</th>\n",
       "      <td>3</td>\n",
       "      <td>2</td>\n",
       "      <td>3</td>\n",
       "      <td>2</td>\n",
       "      <td>2</td>\n",
       "      <td>1</td>\n",
       "      <td>3</td>\n",
       "      <td>2</td>\n",
       "      <td>3</td>\n",
       "      <td>2</td>\n",
       "    </tr>\n",
       "    <tr>\n",
       "      <th>2</th>\n",
       "      <td>0</td>\n",
       "      <td>3</td>\n",
       "      <td>0</td>\n",
       "      <td>3</td>\n",
       "      <td>2</td>\n",
       "      <td>0</td>\n",
       "      <td>0</td>\n",
       "      <td>3</td>\n",
       "      <td>2</td>\n",
       "      <td>0</td>\n",
       "    </tr>\n",
       "    <tr>\n",
       "      <th>2</th>\n",
       "      <td>2</td>\n",
       "      <td>1</td>\n",
       "      <td>2</td>\n",
       "      <td>1</td>\n",
       "      <td>1</td>\n",
       "      <td>3</td>\n",
       "      <td>2</td>\n",
       "      <td>1</td>\n",
       "      <td>1</td>\n",
       "      <td>3</td>\n",
       "    </tr>\n",
       "    <tr>\n",
       "      <th>3</th>\n",
       "      <td>0</td>\n",
       "      <td>2</td>\n",
       "      <td>0</td>\n",
       "      <td>2</td>\n",
       "      <td>1</td>\n",
       "      <td>0</td>\n",
       "      <td>3</td>\n",
       "      <td>0</td>\n",
       "      <td>0</td>\n",
       "      <td>2</td>\n",
       "    </tr>\n",
       "    <tr>\n",
       "      <th>3</th>\n",
       "      <td>3</td>\n",
       "      <td>1</td>\n",
       "      <td>3</td>\n",
       "      <td>1</td>\n",
       "      <td>2</td>\n",
       "      <td>3</td>\n",
       "      <td>1</td>\n",
       "      <td>2</td>\n",
       "      <td>3</td>\n",
       "      <td>1</td>\n",
       "    </tr>\n",
       "    <tr>\n",
       "      <th>4</th>\n",
       "      <td>1</td>\n",
       "      <td>0</td>\n",
       "      <td>1</td>\n",
       "      <td>0</td>\n",
       "      <td>3</td>\n",
       "      <td>0</td>\n",
       "      <td>1</td>\n",
       "      <td>0</td>\n",
       "      <td>3</td>\n",
       "      <td>0</td>\n",
       "    </tr>\n",
       "    <tr>\n",
       "      <th>4</th>\n",
       "      <td>2</td>\n",
       "      <td>3</td>\n",
       "      <td>2</td>\n",
       "      <td>3</td>\n",
       "      <td>1</td>\n",
       "      <td>2</td>\n",
       "      <td>2</td>\n",
       "      <td>3</td>\n",
       "      <td>1</td>\n",
       "      <td>2</td>\n",
       "    </tr>\n",
       "    <tr>\n",
       "      <th>5</th>\n",
       "      <td>3</td>\n",
       "      <td>0</td>\n",
       "      <td>3</td>\n",
       "      <td>0</td>\n",
       "      <td>0</td>\n",
       "      <td>2</td>\n",
       "      <td>0</td>\n",
       "      <td>2</td>\n",
       "      <td>1</td>\n",
       "      <td>0</td>\n",
       "    </tr>\n",
       "    <tr>\n",
       "      <th>5</th>\n",
       "      <td>1</td>\n",
       "      <td>2</td>\n",
       "      <td>1</td>\n",
       "      <td>2</td>\n",
       "      <td>3</td>\n",
       "      <td>1</td>\n",
       "      <td>3</td>\n",
       "      <td>1</td>\n",
       "      <td>2</td>\n",
       "      <td>3</td>\n",
       "    </tr>\n",
       "  </tbody>\n",
       "</table>\n",
       "</div>"
      ],
      "text/plain": [
       "                       original      no random      only first random       \\\n",
       "                           home away      home away              home away   \n",
       "id         date number                                                       \n",
       "tournament 0                  2    0         2    0                 0    1   \n",
       "           0                  1    3         1    3                 3    2   \n",
       "           1                  0    1         0    1                 0    3   \n",
       "           1                  3    2         3    2                 2    1   \n",
       "           2                  0    3         0    3                 2    0   \n",
       "           2                  2    1         2    1                 1    3   \n",
       "           3                  0    2         0    2                 1    0   \n",
       "           3                  3    1         3    1                 2    3   \n",
       "           4                  1    0         1    0                 3    0   \n",
       "           4                  2    3         2    3                 1    2   \n",
       "           5                  3    0         3    0                 0    2   \n",
       "           5                  1    2         1    2                 3    1   \n",
       "\n",
       "                       only second random      both random       \n",
       "                                     home away        home away  \n",
       "id         date number                                           \n",
       "tournament 0                            2    0           0    3  \n",
       "           0                            1    3           2    1  \n",
       "           1                            0    1           0    1  \n",
       "           1                            3    2           3    2  \n",
       "           2                            0    3           2    0  \n",
       "           2                            2    1           1    3  \n",
       "           3                            3    0           0    2  \n",
       "           3                            1    2           3    1  \n",
       "           4                            1    0           3    0  \n",
       "           4                            2    3           1    2  \n",
       "           5                            0    2           1    0  \n",
       "           5                            3    1           2    3  "
      ]
     },
     "execution_count": 11,
     "metadata": {},
     "output_type": "execute_result"
    }
   ],
   "source": [
    "random.seed(2)\n",
    "\n",
    "original = rr.convert_list_of_rounds_to_dataframe(double_rr.first_schedule + double_rr.second_schedule, \"tournament\")\n",
    "non_random = rr.convert_list_of_rounds_to_dataframe(double_rr.get_full_schedule(1, randomize_first_rounds=False, randomize_second_rounds=False), \"tournament\") \n",
    "only_first_random = rr.convert_list_of_rounds_to_dataframe(double_rr.get_full_schedule(1, randomize_second_rounds=False), \"tournament\") \n",
    "only_second_random = rr.convert_list_of_rounds_to_dataframe(double_rr.get_full_schedule(1, randomize_first_rounds=False), \"tournament\") \n",
    "all_random = rr.convert_list_of_rounds_to_dataframe(double_rr.get_full_schedule(1), \"tournament\") \n",
    "\n",
    "# 1) No random is just a copy of the original (if there were more schedule it would just be contatenations of it)\n",
    "# 2) When only first portion is randomized, the second portion still has the same order as it does\n",
    "# 3) When second portion (date numbers [3, 4, 5]) is random, it doesn't have the same ordering as the first one\n",
    "pd.concat([original, non_random, only_first_random, only_second_random, all_random], axis=1, keys=[\"original\", \"no random\", \"only first random\", \"only second random\", \"both random\"])"
   ]
  },
  {
   "cell_type": "code",
   "execution_count": 12,
   "metadata": {},
   "outputs": [
    {
     "data": {
      "text/plain": [
       "[(('a', 'd'), ('b', 'c')),\n",
       " (('b', 'd'), ('c', 'a')),\n",
       " (('c', 'd'), ('b', 'a')),\n",
       " (('d', 'c'), ('a', 'b')),\n",
       " (('d', 'a'), ('c', 'b')),\n",
       " (('d', 'b'), ('a', 'c')),\n",
       " (('a', 'd'), ('b', 'c')),\n",
       " (('b', 'd'), ('c', 'a')),\n",
       " (('c', 'd'), ('b', 'a')),\n",
       " (('d', 'b'), ('a', 'c')),\n",
       " (('d', 'a'), ('c', 'b')),\n",
       " (('d', 'c'), ('a', 'b'))]"
      ]
     },
     "execution_count": 12,
     "metadata": {},
     "output_type": "execute_result"
    }
   ],
   "source": [
    "random.seed(1)\n",
    "\n",
    "named_double_rr = rr.DoubleRoundRobin.from_team_names(team_names=[\"a\", \"b\", \"c\", \"d\"])\n",
    "\n",
    "# In this case you can see that the first portion for both schedules is the same\n",
    "# first portion first schedule  -> rounds 1, 2, 3\n",
    "# first portion second schedule -> rounds 7, 8, 9\n",
    "list(named_double_rr.get_full_schedule(2, randomize_first_rounds=False))"
   ]
  }
 ],
 "metadata": {
  "kernelspec": {
   "display_name": "Python 3",
   "language": "python",
   "name": "python3"
  },
  "language_info": {
   "codemirror_mode": {
    "name": "ipython",
    "version": 3
   },
   "file_extension": ".py",
   "mimetype": "text/x-python",
   "name": "python",
   "nbconvert_exporter": "python",
   "pygments_lexer": "ipython3",
   "version": "3.10.9"
  },
  "orig_nbformat": 4,
  "vscode": {
   "interpreter": {
    "hash": "1569ae172bfe78a0163f72dc7d1b9b8d2ef9bcf63629ea205901cd0fa0b3a6f7"
   }
  }
 },
 "nbformat": 4,
 "nbformat_minor": 2
}
