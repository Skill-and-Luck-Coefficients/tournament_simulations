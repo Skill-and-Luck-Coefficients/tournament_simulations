{
 "cells": [
  {
   "attachments": {},
   "cell_type": "markdown",
   "metadata": {},
   "source": [
    "<h1 align=\"center\">Schedules</h1>"
   ]
  },
  {
   "attachments": {},
   "cell_type": "markdown",
   "metadata": {},
   "source": [
    "<h2>Changing to correct directory</h2>"
   ]
  },
  {
   "cell_type": "code",
   "execution_count": 1,
   "metadata": {},
   "outputs": [],
   "source": [
    "import os\n",
    "from pathlib import Path\n",
    "\n",
    "os.chdir(Path.cwd().parent)\n",
    "assert Path.cwd().name == \"src\" # make sure it is the correct folder"
   ]
  },
  {
   "cell_type": "code",
   "execution_count": 2,
   "metadata": {},
   "outputs": [],
   "source": [
    "import numpy as np\n",
    "import pandas as pd\n",
    "import random\n",
    "\n",
    "import data_structures as ds\n",
    "import schedules.round_robin as rr"
   ]
  },
  {
   "attachments": {},
   "cell_type": "markdown",
   "metadata": {},
   "source": [
    "<h2>Single Round-Robin</h2>\n",
    "\n",
    "> Each line is a Round\n",
    "\n",
    "> All matches in a round have the same \"date number\""
   ]
  },
  {
   "cell_type": "code",
   "execution_count": 3,
   "metadata": {},
   "outputs": [
    {
     "data": {
      "text/plain": [
       "SingleRoundRobin(num_teams=5, schedule=[((0, 3), (2, 1)), ((2, 4), (1, 0)), ((3, 1), (0, 4)), ((0, 2), (3, 4)), ((4, 1), (2, 3))])"
      ]
     },
     "execution_count": 3,
     "metadata": {},
     "output_type": "execute_result"
    }
   ],
   "source": [
    "random.seed(1)\n",
    "\n",
    "single_rr = rr.SingleRoundRobin.from_num_teams(num_teams=5)\n",
    "single_rr"
   ]
  },
  {
   "cell_type": "code",
   "execution_count": 4,
   "metadata": {},
   "outputs": [
    {
     "data": {
      "text/plain": [
       "[((3, 1), (0, 4)),\n",
       " ((0, 2), (3, 4)),\n",
       " ((4, 1), (2, 3)),\n",
       " ((0, 3), (2, 1)),\n",
       " ((2, 4), (1, 0)),\n",
       " ((0, 3), (2, 1)),\n",
       " ((3, 1), (0, 4)),\n",
       " ((2, 4), (1, 0)),\n",
       " ((4, 1), (2, 3)),\n",
       " ((0, 2), (3, 4))]"
      ]
     },
     "execution_count": 4,
     "metadata": {},
     "output_type": "execute_result"
    }
   ],
   "source": [
    "random.seed(1)\n",
    "list(single_rr.get_full_schedule(2))"
   ]
  },
  {
   "cell_type": "code",
   "execution_count": 5,
   "metadata": {},
   "outputs": [
    {
     "data": {
      "text/plain": [
       "[(('d', 'b'), ('a', 'e')),\n",
       " (('a', 'c'), ('d', 'e')),\n",
       " (('e', 'b'), ('c', 'd')),\n",
       " (('a', 'd'), ('c', 'b')),\n",
       " (('c', 'e'), ('b', 'a'))]"
      ]
     },
     "execution_count": 5,
     "metadata": {},
     "output_type": "execute_result"
    }
   ],
   "source": [
    "random.seed(1)\n",
    "\n",
    "schedule = single_rr.get_full_schedule(1)\n",
    "\n",
    "# you can use this function to rename the teams\n",
    "team_names = [\"a\", \"b\", \"c\", \"d\", \"e\"]\n",
    "named_schedule = rr.utils.rename_teams_in_rounds(schedule, team_names)\n",
    "\n",
    "list(named_schedule)"
   ]
  },
  {
   "cell_type": "code",
   "execution_count": 6,
   "metadata": {},
   "outputs": [
    {
     "data": {
      "text/html": [
       "<div>\n",
       "<style scoped>\n",
       "    .dataframe tbody tr th:only-of-type {\n",
       "        vertical-align: middle;\n",
       "    }\n",
       "\n",
       "    .dataframe tbody tr th {\n",
       "        vertical-align: top;\n",
       "    }\n",
       "\n",
       "    .dataframe thead th {\n",
       "        text-align: right;\n",
       "    }\n",
       "</style>\n",
       "<table border=\"1\" class=\"dataframe\">\n",
       "  <thead>\n",
       "    <tr style=\"text-align: right;\">\n",
       "      <th></th>\n",
       "      <th></th>\n",
       "      <th>home</th>\n",
       "      <th>away</th>\n",
       "    </tr>\n",
       "    <tr>\n",
       "      <th>id</th>\n",
       "      <th>date number</th>\n",
       "      <th></th>\n",
       "      <th></th>\n",
       "    </tr>\n",
       "  </thead>\n",
       "  <tbody>\n",
       "    <tr>\n",
       "      <th rowspan=\"20\" valign=\"top\">tournament</th>\n",
       "      <th>0</th>\n",
       "      <td>3</td>\n",
       "      <td>1</td>\n",
       "    </tr>\n",
       "    <tr>\n",
       "      <th>0</th>\n",
       "      <td>0</td>\n",
       "      <td>4</td>\n",
       "    </tr>\n",
       "    <tr>\n",
       "      <th>1</th>\n",
       "      <td>0</td>\n",
       "      <td>2</td>\n",
       "    </tr>\n",
       "    <tr>\n",
       "      <th>1</th>\n",
       "      <td>3</td>\n",
       "      <td>4</td>\n",
       "    </tr>\n",
       "    <tr>\n",
       "      <th>2</th>\n",
       "      <td>4</td>\n",
       "      <td>1</td>\n",
       "    </tr>\n",
       "    <tr>\n",
       "      <th>2</th>\n",
       "      <td>2</td>\n",
       "      <td>3</td>\n",
       "    </tr>\n",
       "    <tr>\n",
       "      <th>3</th>\n",
       "      <td>0</td>\n",
       "      <td>3</td>\n",
       "    </tr>\n",
       "    <tr>\n",
       "      <th>3</th>\n",
       "      <td>2</td>\n",
       "      <td>1</td>\n",
       "    </tr>\n",
       "    <tr>\n",
       "      <th>4</th>\n",
       "      <td>2</td>\n",
       "      <td>4</td>\n",
       "    </tr>\n",
       "    <tr>\n",
       "      <th>4</th>\n",
       "      <td>1</td>\n",
       "      <td>0</td>\n",
       "    </tr>\n",
       "    <tr>\n",
       "      <th>5</th>\n",
       "      <td>0</td>\n",
       "      <td>3</td>\n",
       "    </tr>\n",
       "    <tr>\n",
       "      <th>5</th>\n",
       "      <td>2</td>\n",
       "      <td>1</td>\n",
       "    </tr>\n",
       "    <tr>\n",
       "      <th>6</th>\n",
       "      <td>3</td>\n",
       "      <td>1</td>\n",
       "    </tr>\n",
       "    <tr>\n",
       "      <th>6</th>\n",
       "      <td>0</td>\n",
       "      <td>4</td>\n",
       "    </tr>\n",
       "    <tr>\n",
       "      <th>7</th>\n",
       "      <td>2</td>\n",
       "      <td>4</td>\n",
       "    </tr>\n",
       "    <tr>\n",
       "      <th>7</th>\n",
       "      <td>1</td>\n",
       "      <td>0</td>\n",
       "    </tr>\n",
       "    <tr>\n",
       "      <th>8</th>\n",
       "      <td>4</td>\n",
       "      <td>1</td>\n",
       "    </tr>\n",
       "    <tr>\n",
       "      <th>8</th>\n",
       "      <td>2</td>\n",
       "      <td>3</td>\n",
       "    </tr>\n",
       "    <tr>\n",
       "      <th>9</th>\n",
       "      <td>0</td>\n",
       "      <td>2</td>\n",
       "    </tr>\n",
       "    <tr>\n",
       "      <th>9</th>\n",
       "      <td>3</td>\n",
       "      <td>4</td>\n",
       "    </tr>\n",
       "  </tbody>\n",
       "</table>\n",
       "</div>"
      ],
      "text/plain": [
       "                        home  away\n",
       "id         date number            \n",
       "tournament 0               3     1\n",
       "           0               0     4\n",
       "           1               0     2\n",
       "           1               3     4\n",
       "           2               4     1\n",
       "           2               2     3\n",
       "           3               0     3\n",
       "           3               2     1\n",
       "           4               2     4\n",
       "           4               1     0\n",
       "           5               0     3\n",
       "           5               2     1\n",
       "           6               3     1\n",
       "           6               0     4\n",
       "           7               2     4\n",
       "           7               1     0\n",
       "           8               4     1\n",
       "           8               2     3\n",
       "           9               0     2\n",
       "           9               3     4"
      ]
     },
     "execution_count": 6,
     "metadata": {},
     "output_type": "execute_result"
    }
   ],
   "source": [
    "random.seed(1)\n",
    "\n",
    "# you can convert to dataframe\n",
    "schedule = list(single_rr.get_full_schedule(2))\n",
    "rr.utils.convert_list_of_rounds_to_dataframe(schedule, \"tournament\") "
   ]
  },
  {
   "cell_type": "code",
   "execution_count": 7,
   "metadata": {},
   "outputs": [
    {
     "data": {
      "text/plain": [
       "[(('a', 'b'),),\n",
       " (('c', 'b'),),\n",
       " (('a', 'c'),),\n",
       " (('a', 'c'),),\n",
       " (('c', 'b'),),\n",
       " (('a', 'b'),)]"
      ]
     },
     "execution_count": 7,
     "metadata": {},
     "output_type": "execute_result"
    }
   ],
   "source": [
    "random.seed(1)\n",
    "\n",
    "named_single_rr = rr.SingleRoundRobin.from_team_names(team_names=[\"a\", \"b\", \"c\"])\n",
    "list(named_single_rr.get_full_schedule(2))"
   ]
  },
  {
   "attachments": {},
   "cell_type": "markdown",
   "metadata": {},
   "source": [
    "<h2>Double Round-Robin</h2>\n",
    "\n",
    "> Each line is a round.\n",
    "\n",
    "> All matches in a round have the same \"date number\""
   ]
  },
  {
   "cell_type": "code",
   "execution_count": 8,
   "metadata": {},
   "outputs": [
    {
     "data": {
      "text/plain": [
       "DoubleRoundRobin(num_teams=6, first_schedule=[((0, 2), (3, 1), (4, 5)), ((4, 0), (5, 3), (2, 1)), ((1, 0), (5, 2), (3, 4)), ((0, 5), (4, 1), (3, 2)), ((3, 0), (4, 2), (1, 5))], second_schedule=[((2, 0), (1, 3), (5, 4)), ((0, 4), (3, 5), (1, 2)), ((0, 1), (2, 5), (4, 3)), ((5, 0), (1, 4), (2, 3)), ((0, 3), (2, 4), (5, 1))])"
      ]
     },
     "execution_count": 8,
     "metadata": {},
     "output_type": "execute_result"
    }
   ],
   "source": [
    "random.seed(1)\n",
    "\n",
    "double_rr = rr.DoubleRoundRobin.from_num_teams(num_teams=6)\n",
    "double_rr"
   ]
  },
  {
   "cell_type": "code",
   "execution_count": 9,
   "metadata": {},
   "outputs": [
    {
     "data": {
      "text/plain": [
       "[((1, 0), (5, 2), (3, 4)),\n",
       " ((0, 5), (4, 1), (3, 2)),\n",
       " ((3, 0), (4, 2), (1, 5)),\n",
       " ((0, 2), (3, 1), (4, 5)),\n",
       " ((4, 0), (5, 3), (2, 1)),\n",
       " ((2, 0), (1, 3), (5, 4)),\n",
       " ((0, 1), (2, 5), (4, 3)),\n",
       " ((0, 4), (3, 5), (1, 2)),\n",
       " ((0, 3), (2, 4), (5, 1)),\n",
       " ((5, 0), (1, 4), (2, 3)),\n",
       " ((1, 0), (5, 2), (3, 4)),\n",
       " ((0, 5), (4, 1), (3, 2)),\n",
       " ((3, 0), (4, 2), (1, 5)),\n",
       " ((0, 2), (3, 1), (4, 5)),\n",
       " ((4, 0), (5, 3), (2, 1)),\n",
       " ((0, 4), (3, 5), (1, 2)),\n",
       " ((2, 0), (1, 3), (5, 4)),\n",
       " ((0, 1), (2, 5), (4, 3)),\n",
       " ((0, 3), (2, 4), (5, 1)),\n",
       " ((5, 0), (1, 4), (2, 3))]"
      ]
     },
     "execution_count": 9,
     "metadata": {},
     "output_type": "execute_result"
    }
   ],
   "source": [
    "random.seed(1)\n",
    "list(double_rr.get_full_schedule(2))"
   ]
  },
  {
   "cell_type": "code",
   "execution_count": 10,
   "metadata": {},
   "outputs": [
    {
     "data": {
      "text/plain": [
       "[(('b', 'a'), ('f', 'c'), ('d', 'e')),\n",
       " (('a', 'f'), ('e', 'b'), ('d', 'c')),\n",
       " (('d', 'a'), ('e', 'c'), ('b', 'f')),\n",
       " (('a', 'c'), ('d', 'b'), ('e', 'f')),\n",
       " (('e', 'a'), ('f', 'd'), ('c', 'b')),\n",
       " (('c', 'a'), ('b', 'd'), ('f', 'e')),\n",
       " (('a', 'b'), ('c', 'f'), ('e', 'd')),\n",
       " (('a', 'e'), ('d', 'f'), ('b', 'c')),\n",
       " (('a', 'd'), ('c', 'e'), ('f', 'b')),\n",
       " (('f', 'a'), ('b', 'e'), ('c', 'd'))]"
      ]
     },
     "execution_count": 10,
     "metadata": {},
     "output_type": "execute_result"
    }
   ],
   "source": [
    "random.seed(1)\n",
    "\n",
    "schedule = double_rr.get_full_schedule(1)\n",
    "\n",
    "# you can use this function to rename the teams\n",
    "team_names = [\"a\", \"b\", \"c\", \"d\", \"e\", \"f\"]\n",
    "named_schedule = rr.utils.rename_teams_in_rounds(schedule, team_names)\n",
    "\n",
    "list(named_schedule)"
   ]
  },
  {
   "cell_type": "code",
   "execution_count": 11,
   "metadata": {},
   "outputs": [
    {
     "data": {
      "text/html": [
       "<div>\n",
       "<style scoped>\n",
       "    .dataframe tbody tr th:only-of-type {\n",
       "        vertical-align: middle;\n",
       "    }\n",
       "\n",
       "    .dataframe tbody tr th {\n",
       "        vertical-align: top;\n",
       "    }\n",
       "\n",
       "    .dataframe thead th {\n",
       "        text-align: right;\n",
       "    }\n",
       "</style>\n",
       "<table border=\"1\" class=\"dataframe\">\n",
       "  <thead>\n",
       "    <tr style=\"text-align: right;\">\n",
       "      <th></th>\n",
       "      <th></th>\n",
       "      <th>home</th>\n",
       "      <th>away</th>\n",
       "    </tr>\n",
       "    <tr>\n",
       "      <th>id</th>\n",
       "      <th>date number</th>\n",
       "      <th></th>\n",
       "      <th></th>\n",
       "    </tr>\n",
       "  </thead>\n",
       "  <tbody>\n",
       "    <tr>\n",
       "      <th rowspan=\"30\" valign=\"top\">tournament</th>\n",
       "      <th>0</th>\n",
       "      <td>1</td>\n",
       "      <td>0</td>\n",
       "    </tr>\n",
       "    <tr>\n",
       "      <th>0</th>\n",
       "      <td>5</td>\n",
       "      <td>2</td>\n",
       "    </tr>\n",
       "    <tr>\n",
       "      <th>0</th>\n",
       "      <td>3</td>\n",
       "      <td>4</td>\n",
       "    </tr>\n",
       "    <tr>\n",
       "      <th>1</th>\n",
       "      <td>0</td>\n",
       "      <td>5</td>\n",
       "    </tr>\n",
       "    <tr>\n",
       "      <th>1</th>\n",
       "      <td>4</td>\n",
       "      <td>1</td>\n",
       "    </tr>\n",
       "    <tr>\n",
       "      <th>1</th>\n",
       "      <td>3</td>\n",
       "      <td>2</td>\n",
       "    </tr>\n",
       "    <tr>\n",
       "      <th>2</th>\n",
       "      <td>3</td>\n",
       "      <td>0</td>\n",
       "    </tr>\n",
       "    <tr>\n",
       "      <th>2</th>\n",
       "      <td>4</td>\n",
       "      <td>2</td>\n",
       "    </tr>\n",
       "    <tr>\n",
       "      <th>2</th>\n",
       "      <td>1</td>\n",
       "      <td>5</td>\n",
       "    </tr>\n",
       "    <tr>\n",
       "      <th>3</th>\n",
       "      <td>0</td>\n",
       "      <td>2</td>\n",
       "    </tr>\n",
       "    <tr>\n",
       "      <th>3</th>\n",
       "      <td>3</td>\n",
       "      <td>1</td>\n",
       "    </tr>\n",
       "    <tr>\n",
       "      <th>3</th>\n",
       "      <td>4</td>\n",
       "      <td>5</td>\n",
       "    </tr>\n",
       "    <tr>\n",
       "      <th>4</th>\n",
       "      <td>4</td>\n",
       "      <td>0</td>\n",
       "    </tr>\n",
       "    <tr>\n",
       "      <th>4</th>\n",
       "      <td>5</td>\n",
       "      <td>3</td>\n",
       "    </tr>\n",
       "    <tr>\n",
       "      <th>4</th>\n",
       "      <td>2</td>\n",
       "      <td>1</td>\n",
       "    </tr>\n",
       "    <tr>\n",
       "      <th>5</th>\n",
       "      <td>2</td>\n",
       "      <td>0</td>\n",
       "    </tr>\n",
       "    <tr>\n",
       "      <th>5</th>\n",
       "      <td>1</td>\n",
       "      <td>3</td>\n",
       "    </tr>\n",
       "    <tr>\n",
       "      <th>5</th>\n",
       "      <td>5</td>\n",
       "      <td>4</td>\n",
       "    </tr>\n",
       "    <tr>\n",
       "      <th>6</th>\n",
       "      <td>0</td>\n",
       "      <td>1</td>\n",
       "    </tr>\n",
       "    <tr>\n",
       "      <th>6</th>\n",
       "      <td>2</td>\n",
       "      <td>5</td>\n",
       "    </tr>\n",
       "    <tr>\n",
       "      <th>6</th>\n",
       "      <td>4</td>\n",
       "      <td>3</td>\n",
       "    </tr>\n",
       "    <tr>\n",
       "      <th>7</th>\n",
       "      <td>0</td>\n",
       "      <td>4</td>\n",
       "    </tr>\n",
       "    <tr>\n",
       "      <th>7</th>\n",
       "      <td>3</td>\n",
       "      <td>5</td>\n",
       "    </tr>\n",
       "    <tr>\n",
       "      <th>7</th>\n",
       "      <td>1</td>\n",
       "      <td>2</td>\n",
       "    </tr>\n",
       "    <tr>\n",
       "      <th>8</th>\n",
       "      <td>0</td>\n",
       "      <td>3</td>\n",
       "    </tr>\n",
       "    <tr>\n",
       "      <th>8</th>\n",
       "      <td>2</td>\n",
       "      <td>4</td>\n",
       "    </tr>\n",
       "    <tr>\n",
       "      <th>8</th>\n",
       "      <td>5</td>\n",
       "      <td>1</td>\n",
       "    </tr>\n",
       "    <tr>\n",
       "      <th>9</th>\n",
       "      <td>5</td>\n",
       "      <td>0</td>\n",
       "    </tr>\n",
       "    <tr>\n",
       "      <th>9</th>\n",
       "      <td>1</td>\n",
       "      <td>4</td>\n",
       "    </tr>\n",
       "    <tr>\n",
       "      <th>9</th>\n",
       "      <td>2</td>\n",
       "      <td>3</td>\n",
       "    </tr>\n",
       "  </tbody>\n",
       "</table>\n",
       "</div>"
      ],
      "text/plain": [
       "                        home  away\n",
       "id         date number            \n",
       "tournament 0               1     0\n",
       "           0               5     2\n",
       "           0               3     4\n",
       "           1               0     5\n",
       "           1               4     1\n",
       "           1               3     2\n",
       "           2               3     0\n",
       "           2               4     2\n",
       "           2               1     5\n",
       "           3               0     2\n",
       "           3               3     1\n",
       "           3               4     5\n",
       "           4               4     0\n",
       "           4               5     3\n",
       "           4               2     1\n",
       "           5               2     0\n",
       "           5               1     3\n",
       "           5               5     4\n",
       "           6               0     1\n",
       "           6               2     5\n",
       "           6               4     3\n",
       "           7               0     4\n",
       "           7               3     5\n",
       "           7               1     2\n",
       "           8               0     3\n",
       "           8               2     4\n",
       "           8               5     1\n",
       "           9               5     0\n",
       "           9               1     4\n",
       "           9               2     3"
      ]
     },
     "execution_count": 11,
     "metadata": {},
     "output_type": "execute_result"
    }
   ],
   "source": [
    "random.seed(1)\n",
    "\n",
    "rr.utils.convert_list_of_rounds_to_dataframe(double_rr.get_full_schedule(1), \"tournament\") "
   ]
  },
  {
   "cell_type": "code",
   "execution_count": 12,
   "metadata": {},
   "outputs": [
    {
     "data": {
      "text/plain": [
       "[(('c', 'a'), ('b', 'd')),\n",
       " (('a', 'b'), ('d', 'c')),\n",
       " (('a', 'd'), ('c', 'b')),\n",
       " (('d', 'a'), ('b', 'c')),\n",
       " (('a', 'c'), ('d', 'b')),\n",
       " (('b', 'a'), ('c', 'd')),\n",
       " (('a', 'b'), ('d', 'c')),\n",
       " (('c', 'a'), ('b', 'd')),\n",
       " (('a', 'd'), ('c', 'b')),\n",
       " (('d', 'a'), ('b', 'c')),\n",
       " (('a', 'c'), ('d', 'b')),\n",
       " (('b', 'a'), ('c', 'd'))]"
      ]
     },
     "execution_count": 12,
     "metadata": {},
     "output_type": "execute_result"
    }
   ],
   "source": [
    "random.seed(1)\n",
    "\n",
    "named_double_rr = rr.DoubleRoundRobin.from_team_names(team_names=[\"a\", \"b\", \"c\", \"d\"])\n",
    "list(named_double_rr.get_full_schedule(2))"
   ]
  }
 ],
 "metadata": {
  "kernelspec": {
   "display_name": "Python 3",
   "language": "python",
   "name": "python3"
  },
  "language_info": {
   "codemirror_mode": {
    "name": "ipython",
    "version": 3
   },
   "file_extension": ".py",
   "mimetype": "text/x-python",
   "name": "python",
   "nbconvert_exporter": "python",
   "pygments_lexer": "ipython3",
   "version": "3.10.9"
  },
  "orig_nbformat": 4,
  "vscode": {
   "interpreter": {
    "hash": "1569ae172bfe78a0163f72dc7d1b9b8d2ef9bcf63629ea205901cd0fa0b3a6f7"
   }
  }
 },
 "nbformat": 4,
 "nbformat_minor": 2
}
